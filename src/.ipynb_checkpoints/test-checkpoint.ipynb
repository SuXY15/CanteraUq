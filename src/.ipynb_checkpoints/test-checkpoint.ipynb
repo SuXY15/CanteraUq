{
 "cells": [
  {
   "cell_type": "code",
   "execution_count": 25,
   "metadata": {},
   "outputs": [],
   "source": [
    "# from utils import *\n",
    "# from mpi4py import MPI\n",
    "\n",
    "# comm = MPI.COMM_WORLD\n",
    "# rank = comm.Get_rank()\n",
    "# size = comm.Get_size()\n",
    "\n",
    "# maxTimePerSave = 5e-2\n",
    "\n",
    "# save_dir = \"data/DME_compare/\"\n",
    "# mech_arr = [{\n",
    "#                 'name':\"DMEzhao\",\n",
    "#                 'path':\"mech/DME/DMEzhao/chem.xml\"\n",
    "#             },{\n",
    "#                 'name':\"DMEsk42\",\n",
    "#                 'path':\"mech/DME/DME_drg/DMEsk42.cti\"\n",
    "#             },{\n",
    "#                 'name':\"DMEsk43\",\n",
    "#                 'path':\"mech/DME/DME_drg/DMEsk43.cti\"\n",
    "#             },{\n",
    "#                 'name':\"DMEsk47\",\n",
    "#                 'path':\"mech/DME/DME_drg/DMEsk47.cti\"\n",
    "#             },{\n",
    "#                 'name':\"DMEsk30\",\n",
    "#                 'path':\"mech/DME/DME_drg/DMEsk30.cti\"\n",
    "#             }]\n",
    "# T_arr = [700., 800., 1000., 1200., 1600.]\n",
    "# P_arr = [1.*ct.one_atm, 10.*ct.one_atm, 20.*ct.one_atm]\n",
    "# phi_arr=[0.5, 1.0, 1.5]\n",
    "\n",
    "# props = {'T': 1000.,                # Temperature\n",
    "#          'P': 30.*ct.one_atm,       # Pressure\n",
    "#          'phi': 1.0,                # equivalence ratio\n",
    "#          'air':'O2:1.0,N2:3.762',   # air components\n",
    "#          'fuel':'CH3OCH3',          # fuel components\n",
    "#          'type':'UV',               # sim type\n",
    "#          'tot': 0.001,                # total time\n",
    "#          }"
   ]
  },
  {
   "cell_type": "code",
   "execution_count": 26,
   "metadata": {
    "scrolled": true
   },
   "outputs": [
    {
     "data": {
      "image/png": "[encoded data removed]",
      "text/plain": [
       "<Figure size 432x288 with 1 Axes>"
      ]
     },
     "metadata": {
      "needs_background": "light"
     },
     "output_type": "display_data"
    }
   ],
   "source": [
    "# for mech_i in mech_arr:\n",
    "#     name, mech = mech_i['name'], mech_i['path']\n",
    "#     gas = ct.Solution(mech)\n",
    "#     data = getTcurv(gas, props)\n",
    "#     plt.plot(data['t'],data['T'])\n",
    "# plt.show()"
   ]
  },
  {
   "cell_type": "code",
   "execution_count": 1,
   "metadata": {},
   "outputs": [
    {
     "name": "stdout",
     "output_type": "stream",
     "text": [
      "\u001b[1;31mLoading -f.config failed.\u001b[0m\n"
     ]
    },
    {
     "ename": "ModuleNotFoundError",
     "evalue": "No module named 'response_surfaces'",
     "output_type": "error",
     "traceback": [
      "\u001b[0;31m-------------------------------------------------------------------\u001b[0m",
      "\u001b[0;31mModuleNotFoundError\u001b[0m               Traceback (most recent call last)",
      "\u001b[0;32m<ipython-input-1-a69ee737840e>\u001b[0m in \u001b[0;36m<module>\u001b[0;34m\u001b[0m\n\u001b[1;32m      1\u001b[0m \u001b[0;32mfrom\u001b[0m \u001b[0mutils\u001b[0m \u001b[0;32mimport\u001b[0m \u001b[0;34m*\u001b[0m\u001b[0;34m\u001b[0m\u001b[0;34m\u001b[0m\u001b[0m\n\u001b[1;32m      2\u001b[0m \u001b[0msys\u001b[0m\u001b[0;34m.\u001b[0m\u001b[0mpath\u001b[0m\u001b[0;34m.\u001b[0m\u001b[0mappend\u001b[0m\u001b[0;34m(\u001b[0m\u001b[0;34m\"dep/active_subspaces/utils\"\u001b[0m\u001b[0;34m)\u001b[0m\u001b[0;34m\u001b[0m\u001b[0;34m\u001b[0m\u001b[0m\n\u001b[0;32m----> 3\u001b[0;31m \u001b[0;32mfrom\u001b[0m \u001b[0mresponse_surfaces\u001b[0m \u001b[0;32mimport\u001b[0m \u001b[0;34m*\u001b[0m\u001b[0;34m\u001b[0m\u001b[0;34m\u001b[0m\u001b[0m\n\u001b[0m",
      "\u001b[0;31mModuleNotFoundError\u001b[0m: No module named 'response_surfaces'"
     ]
    }
   ],
   "source": [
    "from utils import *\n",
    "sys.path.append(\"../dep/active_subspaces/utils\")\n",
    "from response_surfaces import *"
   ]
  },
  {
   "cell_type": "code",
   "execution_count": 2,
   "metadata": {},
   "outputs": [
    {
     "name": "stderr",
     "output_type": "stream",
     "text": [
      "Using TensorFlow backend.\n"
     ]
    }
   ],
   "source": [
    "from keras.initializers import he_normal\n",
    "from keras import backend as K\n",
    "from keras.utils import np_utils\n",
    "from keras.models import Sequential\n",
    "from keras.layers import Dense,Dropout,Flatten\n",
    "from keras.optimizers import SGD\n",
    "from keras.layers.convolutional import Conv2D,MaxPooling2D\n",
    "\n",
    "class NerualNetworkApproximation():\n",
    "    model = None\n",
    "    history = {'loss':[],'val_loss':[],'my_metric':[],'val_my_metric':[]}\n",
    "    model_weights = \"../data/tmp/test.h5\"\n",
    "    def my_metric(y_true, y_pred):\n",
    "        return K.mean(K.abs(y_true-y_pred)/(y_true+K.epsilon()))\n",
    "    \n",
    "    def __init__(N=10):\n",
    "        # create model\n",
    "        self.model = Sequential()\n",
    "        self.model.add(Dense(k, kernel_initializer=he_normal(seed=None),input_shape=(Ninput,), activation='sigmoid'))\n",
    "        self.model.add(Dense(N, kernel_initializer=he_normal(seed=None), activation='sigmoid'))\n",
    "        self.model.add(Dense(N, kernel_initializer=he_normal(seed=None), activation='sigmoid'))\n",
    "        self.model.add(Dense(1, kernel_initializer=he_normal(seed=None), activation=None))\n",
    "        # Compile model\n",
    "        self.model.compile(loss='mean_squared_error', optimizer='adam', metrics=[self.my_metric])\n",
    "        \n",
    "    # define the larger model\n",
    "    def train(X_train, y_train, X_test, y_test):\n",
    "        epochs = 10\n",
    "        batch_size = 32\n",
    "        history = self.model.fit(X_train, y_train, validation_data=(X_test, y_test),\n",
    "                                 epochs=epochs, batch_size=batch_size, verbose=2).history\n",
    "        for key in history.keys(): self.history[key] += history[key]\n",
    "        self.model.save_weights(model_weights)\n",
    "\n",
    "    # calculate model gradients\n",
    "    def my_gradients(model, model_weights, X):\n",
    "        gradients = K.gradients(model.output,model.input)\n",
    "        with tf.Session() as sess:\n",
    "            model.load_weights(model_weights)\n",
    "            return sess.run(gradients,feed_dict={model.input:X})\n",
    "        return gradients\n",
    "\n",
    "    def predict(X, compgrad=False):\n",
    "        y_pred = model.predict(X, verbose=0)\n",
    "        y_grad = None if not compgrad else \\\n",
    "                self.my_gradients(self.model, self.model_weights, X)\n",
    "        return y_pred, y_grad\n",
    "    "
   ]
  },
  {
   "cell_type": "code",
   "execution_count": 3,
   "metadata": {},
   "outputs": [
    {
     "ename": "NameError",
     "evalue": "name 'mechs' is not defined",
     "output_type": "error",
     "traceback": [
      "\u001b[0;31m-------------------------------------------------------------------\u001b[0m",
      "\u001b[0;31mNameError\u001b[0m                         Traceback (most recent call last)",
      "\u001b[0;32m<ipython-input-3-92708614a133>\u001b[0m in \u001b[0;36m<module>\u001b[0;34m\u001b[0m\n\u001b[0;32m----> 1\u001b[0;31m \u001b[0mm\u001b[0m\u001b[0;34m,\u001b[0m\u001b[0mname\u001b[0m\u001b[0;34m,\u001b[0m\u001b[0mmech\u001b[0m \u001b[0;34m=\u001b[0m \u001b[0mmechs\u001b[0m\u001b[0;34m[\u001b[0m\u001b[0;36m0\u001b[0m\u001b[0;34m]\u001b[0m\u001b[0;34m\u001b[0m\u001b[0;34m\u001b[0m\u001b[0m\n\u001b[0m\u001b[1;32m      2\u001b[0m \u001b[0mprops\u001b[0m \u001b[0;34m=\u001b[0m \u001b[0mconfig_dict\u001b[0m\u001b[0;34m[\u001b[0m\u001b[0;34m'props'\u001b[0m\u001b[0;34m]\u001b[0m\u001b[0;34m\u001b[0m\u001b[0;34m\u001b[0m\u001b[0m\n\u001b[1;32m      3\u001b[0m \u001b[0mprops\u001b[0m\u001b[0;34m[\u001b[0m\u001b[0;34m'phi'\u001b[0m\u001b[0;34m]\u001b[0m\u001b[0;34m,\u001b[0m \u001b[0mprops\u001b[0m\u001b[0;34m[\u001b[0m\u001b[0;34m'P'\u001b[0m\u001b[0;34m]\u001b[0m\u001b[0;34m,\u001b[0m \u001b[0mprops\u001b[0m\u001b[0;34m[\u001b[0m\u001b[0;34m'T'\u001b[0m\u001b[0;34m]\u001b[0m \u001b[0;34m=\u001b[0m \u001b[0;36m1.0\u001b[0m\u001b[0;34m,\u001b[0m \u001b[0;36m1.0\u001b[0m\u001b[0;34m,\u001b[0m \u001b[0;36m1000.\u001b[0m\u001b[0;34m\u001b[0m\u001b[0;34m\u001b[0m\u001b[0m\n\u001b[1;32m      4\u001b[0m \u001b[0;31m# response_surface = PolynomialApproximation(N=order)\u001b[0m\u001b[0;34m\u001b[0m\u001b[0;34m\u001b[0m\u001b[0;34m\u001b[0m\u001b[0m\n\u001b[1;32m      5\u001b[0m \u001b[0;31m# response_surface = RadialBasisApproximation(N=order)\u001b[0m\u001b[0;34m\u001b[0m\u001b[0;34m\u001b[0m\u001b[0;34m\u001b[0m\u001b[0m\n",
      "\u001b[0;31mNameError\u001b[0m: name 'mechs' is not defined"
     ]
    }
   ],
   "source": [
    "m,name,mech = mechs[0]\n",
    "props = config_dict['props']\n",
    "props['phi'], props['P'], props['T'] = 1.0, 1.0, 1000.\n",
    "# response_surface = PolynomialApproximation(N=order)\n",
    "# response_surface = RadialBasisApproximation(N=order)\n",
    "response_surface = NerualNetworkApproximation(N=10)\n",
    "\n",
    "# loading file\n",
    "gas = load_mech(mech)\n",
    "file_name = acts_dir+\"%s_UF=%.1f_phi=%.1f_p=%.1fatm_T=%.1fK_s=%d.json\"%(name,\n",
    "            UF,props['phi'],props['P'],props['T'],samplingSize)\n",
    "uncetainty_factors = load_uncertainty(mech, UF=UF)\n",
    "sens_data_arr = json_reader(file_name)\n",
    "tdata_arr = [sd['tdata'] for sd in sens_data_arr]\n",
    "props_arr = [sd['props'] for sd in sens_data_arr]\n",
    "subs_name = file_name[:-5]+\"_as.json\"\n",
    "\n",
    "# prepare training\n",
    "VT = np.array(json_reader(subs_name)[0]['subspace'])\n",
    "idt = np.array([props['idt'] for props in props_arr])\n",
    "idx = [i for i,iidt in enumerate(idt) if iidt>0]"
   ]
  },
  {
   "cell_type": "code",
   "execution_count": null,
   "metadata": {},
   "outputs": [],
   "source": [
    "f = np.transpose([np.log10(idt[idx]),])\n",
    "X = np.array([np.dot(VT[:dim],3.*np.log(props_arr[i]['factor'])\\\n",
    "             /np.log(uncetainty_factors)) for i in idx])\n",
    "trainSize = len(f)>>1\n",
    "x,v = X[:trainSize,:],X[trainSize:,:]\n",
    "xf,vf = f[:trainSize,:],f[trainSize:,:]\n",
    "response_surface.train(x,xf)\n",
    "\n",
    "# predicting\n",
    "xp,dx = response_surface.predict(x,compgrad=True)\n",
    "vp,dv = response_surface.predict(v,compgrad=True)"
   ]
  },
  {
   "cell_type": "code",
   "execution_count": null,
   "metadata": {},
   "outputs": [],
   "source": []
  },
  {
   "cell_type": "code",
   "execution_count": null,
   "metadata": {},
   "outputs": [],
   "source": [
    "NX = np.transpose(np.dot(VT[:dim], np.random.normal(0.0, 1.0, (len(uncetainty_factors),N))))\n",
    "NP,dn = response_surface.predict(NX)"
   ]
  },
  {
   "cell_type": "code",
   "execution_count": null,
   "metadata": {},
   "outputs": [],
   "source": [
    "def fitting_plots(x, xf, xp, v, vf, vp, NX, NP):\n",
    "    fig1 = plt.figure(\"Training and Validation\")\n",
    "    plt.title(\"Training and Validation\")\n",
    "    plt.plot(xf,xp,'C0o',ms=4,fillstyle='none')\n",
    "    plt.plot(vf,vp,'C1o',ms=4,fillstyle='none')\n",
    "    fmin, fmax = np.min(xf), np.max(xf)\n",
    "    plt.plot([fmin,fmax],[fmin,fmax],'k--')\n",
    "    plt.xlabel(r'$\\log(\\tau_{real})$')\n",
    "    plt.ylabel(r'$\\log(\\tau_{prediction})$')\n",
    "    plt.legend(['train','valid'],frameon=False)\n",
    "\n",
    "    fig2 = plt.figure(\"Response surface prediction\")\n",
    "    plt.title(\"Response surface prediction\")\n",
    "    plt.plot(NX[:,0],NP,'k.',ms=.8)\n",
    "    plt.plot(x[:,0],xp,'C0o',ms=4,fillstyle='none')\n",
    "    plt.plot(v[:,0],vp,'C1o',ms=4,fillstyle='none')\n",
    "\n",
    "    plt.xlabel(r'$X_1$')\n",
    "    plt.ylabel(r'$\\log(\\tau_{prediction})$')\n",
    "    plt.legend([\"samples\",\"train\",\"valid\"],frameon=False)\n",
    "    return fig1, fig2"
   ]
  },
  {
   "cell_type": "code",
   "execution_count": null,
   "metadata": {},
   "outputs": [],
   "source": [
    "print(file_name)\n",
    "cprint(\"dim: %d, ord: %d, train: %d, valid: %d\"%(dim,order,trainSize,len(f)-trainSize), 'b')\n",
    "fig1,fig2 = fitting_plots(x, xf, xp, v, vf, vp, NX, NP)"
   ]
  }
 ],
 "metadata": {
  "kernelspec": {
   "display_name": "Python 3",
   "language": "python",
   "name": "python3"
  },
  "language_info": {
   "codemirror_mode": {
    "name": "ipython",
    "version": 3
   },
   "file_extension": ".py",
   "mimetype": "text/x-python",
   "name": "python",
   "nbconvert_exporter": "python",
   "pygments_lexer": "ipython3",
   "version": "3.7.2"
  }
 },
 "nbformat": 4,
 "nbformat_minor": 2
}
