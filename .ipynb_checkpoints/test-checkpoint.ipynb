{
 "cells": [
  {
   "cell_type": "code",
   "execution_count": 23,
   "metadata": {},
   "outputs": [],
   "source": [
    "from utils import *\n",
    "from mpi4py import MPI\n",
    "\n",
    "comm = MPI.COMM_WORLD\n",
    "rank = comm.Get_rank()\n",
    "size = comm.Get_size()\n",
    "\n",
    "maxTimePerSave = 5e-2\n",
    "\n",
    "save_dir = \"data/DME_compare/\"\n",
    "mech_arr = [{\n",
    "                'name':\"DMEzhao\",\n",
    "                'path':\"mech/DME/DMEzhao/chem.xml\"\n",
    "            },{\n",
    "                'name':\"DMEsk42\",\n",
    "                'path':\"mech/DME/DME_drg/DMEsk42.cti\"\n",
    "            },{\n",
    "                'name':\"DMEsk43\",\n",
    "                'path':\"mech/DME/DME_drg/DMEsk43.cti\"\n",
    "            },{\n",
    "                'name':\"DMEsk47\",\n",
    "                'path':\"mech/DME/DME_drg/DMEsk47.cti\"\n",
    "            },{\n",
    "                'name':\"DMEsk30\",\n",
    "                'path':\"mech/DME/DME_drg/DMEsk30.cti\"\n",
    "            }]\n",
    "T_arr = [700., 800., 1000., 1200., 1600.]\n",
    "P_arr = [1.*ct.one_atm, 10.*ct.one_atm, 20.*ct.one_atm]\n",
    "phi_arr=[0.5, 1.0, 1.5]\n",
    "\n",
    "props = {'T': 1000.,                # Temperature\n",
    "         'P': 30.*ct.one_atm,       # Pressure\n",
    "         'phi': 1.0,                # equivalence ratio\n",
    "         'air':'O2:1.0,N2:3.762',   # air components\n",
    "         'fuel':'CH3OCH3',          # fuel components\n",
    "         'type':'UV',               # sim type\n",
    "         'tot': 0.001,                # total time\n",
    "         }"
   ]
  },
  {
   "cell_type": "code",
   "execution_count": 24,
   "metadata": {
    "scrolled": true
   },
   "outputs": [
    {
     "ename": "CanteraError",
     "evalue": "\n***********************************************************************\nCanteraError thrown by ct2ctml_string:\nError converting input file \"mech/DME/DME_drg/DME_drg42.cti\" to CTML.\nPython command was: '/usr/local/opt/python/bin/python3.7'\nThe exit code was: 1\n-------------- start of converter log --------------\nTraceback (most recent call last):\n  File \"/usr/local/lib/python3.7/site-packages/cantera/ctml_writer.py\", line 2643, in convert\n    with open(filename, 'rU', **open_kw) as f:\nFileNotFoundError: [Errno 2] No such file or directory: 'mech/DME/DME_drg/DME_drg42.cti'\n\nDuring handling of the above exception, another exception occurred:\n\nTraceback (most recent call last):\n  File \"<stdin>\", line 9, in <module>\n  File \"/usr/local/lib/python3.7/site-packages/cantera/ctml_writer.py\", line 2670, in convert\n    text = open(filename, 'rU').readlines()\nFileNotFoundError: [Errno 2] No such file or directory: 'mech/DME/DME_drg/DME_drg42.cti'\n--------------- end of converter log ---------------\n***********************************************************************\n",
     "output_type": "error",
     "traceback": [
      "\u001b[0;31m-------------------------------------------------------------------\u001b[0m",
      "\u001b[0;31mCanteraError\u001b[0m                      Traceback (most recent call last)",
      "\u001b[0;32m<ipython-input-24-def147195dbe>\u001b[0m in \u001b[0;36m<module>\u001b[0;34m\u001b[0m\n\u001b[1;32m      1\u001b[0m \u001b[0;32mfor\u001b[0m \u001b[0mmech_i\u001b[0m \u001b[0;32min\u001b[0m \u001b[0mmech_arr\u001b[0m\u001b[0;34m:\u001b[0m\u001b[0;34m\u001b[0m\u001b[0;34m\u001b[0m\u001b[0m\n\u001b[1;32m      2\u001b[0m     \u001b[0mname\u001b[0m\u001b[0;34m,\u001b[0m \u001b[0mmech\u001b[0m \u001b[0;34m=\u001b[0m \u001b[0mmech_i\u001b[0m\u001b[0;34m[\u001b[0m\u001b[0;34m'name'\u001b[0m\u001b[0;34m]\u001b[0m\u001b[0;34m,\u001b[0m \u001b[0mmech_i\u001b[0m\u001b[0;34m[\u001b[0m\u001b[0;34m'path'\u001b[0m\u001b[0;34m]\u001b[0m\u001b[0;34m\u001b[0m\u001b[0;34m\u001b[0m\u001b[0m\n\u001b[0;32m----> 3\u001b[0;31m     \u001b[0mgas\u001b[0m \u001b[0;34m=\u001b[0m \u001b[0mct\u001b[0m\u001b[0;34m.\u001b[0m\u001b[0mSolution\u001b[0m\u001b[0;34m(\u001b[0m\u001b[0mmech\u001b[0m\u001b[0;34m)\u001b[0m\u001b[0;34m\u001b[0m\u001b[0;34m\u001b[0m\u001b[0m\n\u001b[0m\u001b[1;32m      4\u001b[0m     \u001b[0mdata\u001b[0m \u001b[0;34m=\u001b[0m \u001b[0mgetTcurv\u001b[0m\u001b[0;34m(\u001b[0m\u001b[0mgas\u001b[0m\u001b[0;34m,\u001b[0m \u001b[0mprops\u001b[0m\u001b[0;34m)\u001b[0m\u001b[0;34m\u001b[0m\u001b[0;34m\u001b[0m\u001b[0m\n\u001b[1;32m      5\u001b[0m     \u001b[0mplt\u001b[0m\u001b[0;34m.\u001b[0m\u001b[0mplot\u001b[0m\u001b[0;34m(\u001b[0m\u001b[0mdata\u001b[0m\u001b[0;34m[\u001b[0m\u001b[0;34m't'\u001b[0m\u001b[0;34m]\u001b[0m\u001b[0;34m,\u001b[0m\u001b[0mdata\u001b[0m\u001b[0;34m[\u001b[0m\u001b[0;34m'T'\u001b[0m\u001b[0;34m]\u001b[0m\u001b[0;34m)\u001b[0m\u001b[0;34m\u001b[0m\u001b[0;34m\u001b[0m\u001b[0m\n",
      "\u001b[0;32minterfaces/cython/cantera/base.pyx\u001b[0m in \u001b[0;36mcantera._cantera._SolutionBase.__cinit__\u001b[0;34m()\u001b[0m\n",
      "\u001b[0;32minterfaces/cython/cantera/base.pyx\u001b[0m in \u001b[0;36mcantera._cantera._SolutionBase._init_cti_xml\u001b[0;34m()\u001b[0m\n",
      "\u001b[0;31mCanteraError\u001b[0m: \n***********************************************************************\nCanteraError thrown by ct2ctml_string:\nError converting input file \"mech/DME/DME_drg/DME_drg42.cti\" to CTML.\nPython command was: '/usr/local/opt/python/bin/python3.7'\nThe exit code was: 1\n-------------- start of converter log --------------\nTraceback (most recent call last):\n  File \"/usr/local/lib/python3.7/site-packages/cantera/ctml_writer.py\", line 2643, in convert\n    with open(filename, 'rU', **open_kw) as f:\nFileNotFoundError: [Errno 2] No such file or directory: 'mech/DME/DME_drg/DME_drg42.cti'\n\nDuring handling of the above exception, another exception occurred:\n\nTraceback (most recent call last):\n  File \"<stdin>\", line 9, in <module>\n  File \"/usr/local/lib/python3.7/site-packages/cantera/ctml_writer.py\", line 2670, in convert\n    text = open(filename, 'rU').readlines()\nFileNotFoundError: [Errno 2] No such file or directory: 'mech/DME/DME_drg/DME_drg42.cti'\n--------------- end of converter log ---------------\n***********************************************************************\n"
     ]
    },
    {
     "data": {
      "image/png": "[encoded data removed]",
      "text/plain": [
       "<Figure size 432x288 with 1 Axes>"
      ]
     },
     "metadata": {
      "needs_background": "light"
     },
     "output_type": "display_data"
    }
   ],
   "source": [
    "for mech_i in mech_arr:\n",
    "    name, mech = mech_i['name'], mech_i['path']\n",
    "    gas = ct.Solution(mech)\n",
    "    data = getTcurv(gas, props)\n",
    "    plt.plot(data['t'],data['T'])\n",
    "plt.show()"
   ]
  },
  {
   "cell_type": "code",
   "execution_count": null,
   "metadata": {},
   "outputs": [],
   "source": []
  },
  {
   "cell_type": "code",
   "execution_count": null,
   "metadata": {},
   "outputs": [],
   "source": []
  }
 ],
 "metadata": {
  "kernelspec": {
   "display_name": "Python 3",
   "language": "python",
   "name": "python3"
  },
  "language_info": {
   "codemirror_mode": {
    "name": "ipython",
    "version": 3
   },
   "file_extension": ".py",
   "mimetype": "text/x-python",
   "name": "python",
   "nbconvert_exporter": "python",
   "pygments_lexer": "ipython3",
   "version": "3.7.1"
  }
 },
 "nbformat": 4,
 "nbformat_minor": 2
}
